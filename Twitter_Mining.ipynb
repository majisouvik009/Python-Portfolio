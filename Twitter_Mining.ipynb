{
  "nbformat": 4,
  "nbformat_minor": 0,
  "metadata": {
    "colab": {
      "name": "Twitter_Mining.ipynb",
      "provenance": [],
      "authorship_tag": "ABX9TyNGZv/e38wTvuuYh/EWX/NV",
      "include_colab_link": true
    },
    "kernelspec": {
      "name": "python3",
      "display_name": "Python 3"
    },
    "language_info": {
      "name": "python"
    }
  },
  "cells": [
    {
      "cell_type": "markdown",
      "metadata": {
        "id": "view-in-github",
        "colab_type": "text"
      },
      "source": [
        "<a href=\"https://colab.research.google.com/github/majithecoder/Python-Portfolio/blob/main/Twitter_Mining.ipynb\" target=\"_parent\"><img src=\"https://colab.research.google.com/assets/colab-badge.svg\" alt=\"Open In Colab\"/></a>"
      ]
    },
    {
      "cell_type": "code",
      "metadata": {
        "id": "r-qdSyoshSE4"
      },
      "source": [
        "#description : this is a sentiment analysis program\n"
      ],
      "execution_count": null,
      "outputs": []
    }
  ]
}
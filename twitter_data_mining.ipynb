{
  "nbformat": 4,
  "nbformat_minor": 0,
  "metadata": {
    "colab": {
      "name": "twitter_data_mining.ipynb",
      "provenance": [],
      "authorship_tag": "ABX9TyN1/brOy3p6cqopEY2MMJSn",
      "include_colab_link": true
    },
    "kernelspec": {
      "name": "python3",
      "display_name": "Python 3"
    },
    "language_info": {
      "name": "python"
    }
  },
  "cells": [
    {
      "cell_type": "markdown",
      "metadata": {
        "id": "view-in-github",
        "colab_type": "text"
      },
      "source": [
        "<a href=\"https://colab.research.google.com/github/majithecoder/Python-Portfolio/blob/main/twitter_data_mining.ipynb\" target=\"_parent\"><img src=\"https://colab.research.google.com/assets/colab-badge.svg\" alt=\"Open In Colab\"/></a>"
      ]
    },
    {
      "cell_type": "code",
      "metadata": {
        "id": "r-qdSyoshSE4"
      },
      "source": [
        "#description :  sentiment analysis project\n"
      ],
      "execution_count": null,
      "outputs": []
    },
    {
      "cell_type": "code",
      "metadata": {
        "id": "2Cwsaacjpkip"
      },
      "source": [
        "#import the libraries\n",
        "import tweepy\n",
        "from textblob import TextBlob\n",
        "from wordcloud import WordCloud\n",
        "import pandas as pd\n",
        "import numpy as np\n",
        "import re \n",
        "import matplotlib.pyplot as plt\n",
        "plt.style.use('fivethirtyeight') \n",
        "\n"
      ],
      "execution_count": 51,
      "outputs": []
    },
    {
      "cell_type": "code",
      "metadata": {
        "id": "oZai5S3eq7ae",
        "colab": {
          "resources": {
            "http://localhost:8080/nbextensions/google.colab/files.js": {
              "data": "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",
              "ok": true,
              "headers": [
                [
                  "content-type",
                  "application/javascript"
                ]
              ],
              "status": 200,
              "status_text": ""
            }
          },
          "base_uri": "https://localhost:8080/",
          "height": 72
        },
        "outputId": "e5e945c1-f6a9-411f-9aec-8effbe5adcf9"
      },
      "source": [
        "#load the data\n",
        "from google.colab import files\n",
        "uploaded=files.upload()"
      ],
      "execution_count": 22,
      "outputs": [
        {
          "output_type": "display_data",
          "data": {
            "text/html": [
              "\n",
              "     <input type=\"file\" id=\"files-294d9b52-a452-4121-8446-6777a362549d\" name=\"files[]\" multiple disabled\n",
              "        style=\"border:none\" />\n",
              "     <output id=\"result-294d9b52-a452-4121-8446-6777a362549d\">\n",
              "      Upload widget is only available when the cell has been executed in the\n",
              "      current browser session. Please rerun this cell to enable.\n",
              "      </output>\n",
              "      <script src=\"/nbextensions/google.colab/files.js\"></script> "
            ],
            "text/plain": [
              "<IPython.core.display.HTML object>"
            ]
          },
          "metadata": {
            "tags": []
          }
        },
        {
          "output_type": "stream",
          "text": [
            "Saving login.csv to login (1).csv\n"
          ],
          "name": "stdout"
        }
      ]
    },
    {
      "cell_type": "code",
      "metadata": {
        "id": "0Xh_yEjcW9dV"
      },
      "source": [
        "#get the data\n",
        "log=pd.read_csv('login.csv')\n"
      ],
      "execution_count": 35,
      "outputs": []
    },
    {
      "cell_type": "code",
      "metadata": {
        "id": "BOppMpSZXNei"
      },
      "source": [
        "#twitter API credentials \n",
        "#consumerKey =log['key'][0]\n",
        "#consumerSecret=log['key'][1]\n",
        "#accessToken=log['key'][2]\n",
        "#accessTokenSecret=log['key'][3]\n",
        "\n",
        "consumer_key=\"TKhmmyLYixGPbLIilsGZa13Rp\"\n",
        "consumer_secret=\"MyioBbyK8naWEJMnBxBuvQW4s8zUUL9xIeAQUAHbDGDNJvuRXP\"\n",
        "access_token=\"1341654768087777282-nOMS0kq49boITGqTERYUi4160r1zA4\"\n",
        "access_token_secret=\"XohwvP5VMIf73N78npTYmZL1LcImrczBaIMLO4lWSfjGn\"\n",
        "\n",
        "\n",
        "\n"
      ],
      "execution_count": 36,
      "outputs": []
    },
    {
      "cell_type": "code",
      "metadata": {
        "id": "7tAJk9iOZYSw"
      },
      "source": [
        "#set the auth object\n",
        "auth = tweepy.OAuthHandler(consumer_key, consumer_secret)\n",
        "\n",
        "#set the access token and access token secret\n",
        "auth.set_access_token(access_token, access_token_secret)\n",
        "\n",
        "#create API object while passing in the auth info\n",
        "api= tweepy.API(auth)\n",
        "\n",
        "\n"
      ],
      "execution_count": 37,
      "outputs": []
    },
    {
      "cell_type": "code",
      "metadata": {
        "colab": {
          "base_uri": "https://localhost:8080/"
        },
        "id": "4vMuCaSqaznX",
        "outputId": "635f6f99-89a6-4d3c-bed0-edf8e989413c"
      },
      "source": [
        "#extarct tweets from the twitter user\n",
        "posts = api.user_timeline(screen_name=\"NarendraModi\", count=100, lang=\"en\", tweet_mode=\"extended\" )\n",
        "#cursor = tweepy.Cursor{api.user_timeline, id='realDonaldTrump',tweet_mode='extended'}.items(1)\n",
        "\n",
        "#print  tweets from the account\n",
        "print (\"show the 5 recent tweets: \\n\")\n",
        "i=1\n",
        "for tweet in posts [0:5]:\n",
        "  print(str(i) + ') '+ tweet.full_text+'\\n')\n",
        "  i= i+1\n"
      ],
      "execution_count": 38,
      "outputs": [
        {
          "output_type": "stream",
          "text": [
            "show the 5 recent tweets: \n",
            "\n",
            "1) Reforms by Conviction and Incentives...my @LinkedIn  post on innovative policy making in the time of COVID-19, powered by the spirit of Centre-State Bhagidari. https://t.co/ac0jhAqluT\n",
            "\n",
            "2) Today’s record-breaking vaccination numbers are gladdening. The vaccine remains our strongest weapon to fight COVID-19. Congratulations to those who got vaccinated and kudos to all the front-line warriors working hard to ensure so many citizens got the vaccine. \n",
            "\n",
            "Well done India!\n",
            "\n",
            "3) The world is realising the benefits and the uniting potential of Yoga.\n",
            "\n",
            "I thank @PMBhutan for his constant passion towards Yoga and support for #YogaDay. https://t.co/aS2OufPMtS\n",
            "\n",
            "4) Happy to see. Best wishes to Yuvan. https://t.co/JoutlFz5Nv\n",
            "\n",
            "5) Very good. https://t.co/xzUKvBcFSq\n",
            "\n"
          ],
          "name": "stdout"
        }
      ]
    },
    {
      "cell_type": "code",
      "metadata": {
        "colab": {
          "base_uri": "https://localhost:8080/",
          "height": 204
        },
        "id": "DDQn87bY2SXX",
        "outputId": "0361e9ee-2209-4ca6-ff99-fd69ebcf363b"
      },
      "source": [
        "#create a dataframe with a column called tweets \n",
        "df= pd.DataFrame ([tweet.full_text for tweet in posts] ,columns=['Tweets'])\n",
        "\n",
        "#show the first 5 rows of data \n",
        "df.head()\n"
      ],
      "execution_count": 39,
      "outputs": [
        {
          "output_type": "execute_result",
          "data": {
            "text/html": [
              "<div>\n",
              "<style scoped>\n",
              "    .dataframe tbody tr th:only-of-type {\n",
              "        vertical-align: middle;\n",
              "    }\n",
              "\n",
              "    .dataframe tbody tr th {\n",
              "        vertical-align: top;\n",
              "    }\n",
              "\n",
              "    .dataframe thead th {\n",
              "        text-align: right;\n",
              "    }\n",
              "</style>\n",
              "<table border=\"1\" class=\"dataframe\">\n",
              "  <thead>\n",
              "    <tr style=\"text-align: right;\">\n",
              "      <th></th>\n",
              "      <th>Tweets</th>\n",
              "    </tr>\n",
              "  </thead>\n",
              "  <tbody>\n",
              "    <tr>\n",
              "      <th>0</th>\n",
              "      <td>Reforms by Conviction and Incentives...my @Lin...</td>\n",
              "    </tr>\n",
              "    <tr>\n",
              "      <th>1</th>\n",
              "      <td>Today’s record-breaking vaccination numbers ar...</td>\n",
              "    </tr>\n",
              "    <tr>\n",
              "      <th>2</th>\n",
              "      <td>The world is realising the benefits and the un...</td>\n",
              "    </tr>\n",
              "    <tr>\n",
              "      <th>3</th>\n",
              "      <td>Happy to see. Best wishes to Yuvan. https://t....</td>\n",
              "    </tr>\n",
              "    <tr>\n",
              "      <th>4</th>\n",
              "      <td>Very good. https://t.co/xzUKvBcFSq</td>\n",
              "    </tr>\n",
              "  </tbody>\n",
              "</table>\n",
              "</div>"
            ],
            "text/plain": [
              "                                              Tweets\n",
              "0  Reforms by Conviction and Incentives...my @Lin...\n",
              "1  Today’s record-breaking vaccination numbers ar...\n",
              "2  The world is realising the benefits and the un...\n",
              "3  Happy to see. Best wishes to Yuvan. https://t....\n",
              "4                 Very good. https://t.co/xzUKvBcFSq"
            ]
          },
          "metadata": {
            "tags": []
          },
          "execution_count": 39
        }
      ]
    },
    {
      "cell_type": "code",
      "metadata": {
        "colab": {
          "base_uri": "https://localhost:8080/",
          "height": 419
        },
        "id": "fNRkbdpgxjnz",
        "outputId": "3170128d-8cd6-4207-f50d-48745fea705a"
      },
      "source": [
        "#create a function to clean the tweets \n",
        "def cleanTxt(text):\n",
        "  text = re.sub(r'@[A-Za-z0-9]+', '', text) #removed @mentions\n",
        "  text = re.sub(r'#','',text) #removing the # symbol\n",
        "  text = re.sub (r'RT[\\s]+' , '' , text)  #removing RT\n",
        "  text = re.sub (r'https?:\\/\\/\\S+' ,'' , text)  #remove the hyper link \n",
        "\n",
        "  return text \n",
        "\n",
        "#text cleaning \n",
        "df['Tweets']= df['Tweets'].apply(cleanTxt)\n",
        "\n",
        "#print the cleaned txt\n",
        "df \n",
        "\n",
        "\n",
        "\n",
        "  \n",
        "\n",
        "\n",
        "\n"
      ],
      "execution_count": 74,
      "outputs": [
        {
          "output_type": "execute_result",
          "data": {
            "text/html": [
              "<div>\n",
              "<style scoped>\n",
              "    .dataframe tbody tr th:only-of-type {\n",
              "        vertical-align: middle;\n",
              "    }\n",
              "\n",
              "    .dataframe tbody tr th {\n",
              "        vertical-align: top;\n",
              "    }\n",
              "\n",
              "    .dataframe thead th {\n",
              "        text-align: right;\n",
              "    }\n",
              "</style>\n",
              "<table border=\"1\" class=\"dataframe\">\n",
              "  <thead>\n",
              "    <tr style=\"text-align: right;\">\n",
              "      <th></th>\n",
              "      <th>Tweets</th>\n",
              "    </tr>\n",
              "  </thead>\n",
              "  <tbody>\n",
              "    <tr>\n",
              "      <th>0</th>\n",
              "      <td>Reforms by Conviction and Incentives...my   po...</td>\n",
              "    </tr>\n",
              "    <tr>\n",
              "      <th>1</th>\n",
              "      <td>Today’s record-breaking vaccination numbers ar...</td>\n",
              "    </tr>\n",
              "    <tr>\n",
              "      <th>2</th>\n",
              "      <td>The world is realising the benefits and the un...</td>\n",
              "    </tr>\n",
              "    <tr>\n",
              "      <th>3</th>\n",
              "      <td>Happy to see. Best wishes to Yuvan.</td>\n",
              "    </tr>\n",
              "    <tr>\n",
              "      <th>4</th>\n",
              "      <td>Very good.</td>\n",
              "    </tr>\n",
              "    <tr>\n",
              "      <th>...</th>\n",
              "      <td>...</td>\n",
              "    </tr>\n",
              "    <tr>\n",
              "      <th>95</th>\n",
              "      <td>कोरोना के खिलाफ लड़ाई में बहुत बड़ी भूमिका देश...</td>\n",
              "    </tr>\n",
              "    <tr>\n",
              "      <th>96</th>\n",
              "      <td>At a time when everybody wants to run away fro...</td>\n",
              "    </tr>\n",
              "    <tr>\n",
              "      <th>97</th>\n",
              "      <td>Our Nari Shakti is at the forefront of helping...</td>\n",
              "    </tr>\n",
              "    <tr>\n",
              "      <th>98</th>\n",
              "      <td>Group Captain Patnaik, like several other coll...</td>\n",
              "    </tr>\n",
              "    <tr>\n",
              "      <th>99</th>\n",
              "      <td>Dinesh Upadhyay Ji belongs to Jaunpur, UP. He ...</td>\n",
              "    </tr>\n",
              "  </tbody>\n",
              "</table>\n",
              "<p>100 rows × 1 columns</p>\n",
              "</div>"
            ],
            "text/plain": [
              "                                               Tweets\n",
              "0   Reforms by Conviction and Incentives...my   po...\n",
              "1   Today’s record-breaking vaccination numbers ar...\n",
              "2   The world is realising the benefits and the un...\n",
              "3                Happy to see. Best wishes to Yuvan. \n",
              "4                                         Very good. \n",
              "..                                                ...\n",
              "95  कोरोना के खिलाफ लड़ाई में बहुत बड़ी भूमिका देश...\n",
              "96  At a time when everybody wants to run away fro...\n",
              "97  Our Nari Shakti is at the forefront of helping...\n",
              "98  Group Captain Patnaik, like several other coll...\n",
              "99  Dinesh Upadhyay Ji belongs to Jaunpur, UP. He ...\n",
              "\n",
              "[100 rows x 1 columns]"
            ]
          },
          "metadata": {
            "tags": []
          },
          "execution_count": 74
        }
      ]
    },
    {
      "cell_type": "code",
      "metadata": {
        "id": "PzK6DqdCw-cZ"
      },
      "source": [
        ""
      ],
      "execution_count": null,
      "outputs": []
    },
    {
      "cell_type": "code",
      "metadata": {
        "colab": {
          "base_uri": "https://localhost:8080/",
          "height": 419
        },
        "id": "W0NiKjFZv_Wl",
        "outputId": "ecaa06ac-8d18-4b96-e289-6422a233fa02"
      },
      "source": [
        "#subjectivity test\n",
        "def getSubjectivity(text):\n",
        "  return TextBlob(text).sentiment.subjectivity\n",
        "\n",
        "#poltarity check\n",
        "def getPolarity(text):\n",
        " return TextBlob(text).sentiment.polarity\n",
        "\n",
        " #creating  two new columns\n",
        "df['Subjectivity'] = df['Tweets'].apply(getSubjectivity)\n",
        "df['Polarity'] = df ['Tweets'].apply(getPolarity)\n",
        "\n",
        " # print dataframes with new column\n",
        "df "
      ],
      "execution_count": 76,
      "outputs": [
        {
          "output_type": "execute_result",
          "data": {
            "text/html": [
              "<div>\n",
              "<style scoped>\n",
              "    .dataframe tbody tr th:only-of-type {\n",
              "        vertical-align: middle;\n",
              "    }\n",
              "\n",
              "    .dataframe tbody tr th {\n",
              "        vertical-align: top;\n",
              "    }\n",
              "\n",
              "    .dataframe thead th {\n",
              "        text-align: right;\n",
              "    }\n",
              "</style>\n",
              "<table border=\"1\" class=\"dataframe\">\n",
              "  <thead>\n",
              "    <tr style=\"text-align: right;\">\n",
              "      <th></th>\n",
              "      <th>Tweets</th>\n",
              "      <th>Subjectivity</th>\n",
              "      <th>Polarity</th>\n",
              "    </tr>\n",
              "  </thead>\n",
              "  <tbody>\n",
              "    <tr>\n",
              "      <th>0</th>\n",
              "      <td>Reforms by Conviction and Incentives...my   po...</td>\n",
              "      <td>1.000000</td>\n",
              "      <td>0.500000</td>\n",
              "    </tr>\n",
              "    <tr>\n",
              "      <th>1</th>\n",
              "      <td>Today’s record-breaking vaccination numbers ar...</td>\n",
              "      <td>0.520833</td>\n",
              "      <td>0.166667</td>\n",
              "    </tr>\n",
              "    <tr>\n",
              "      <th>2</th>\n",
              "      <td>The world is realising the benefits and the un...</td>\n",
              "      <td>0.666667</td>\n",
              "      <td>0.000000</td>\n",
              "    </tr>\n",
              "    <tr>\n",
              "      <th>3</th>\n",
              "      <td>Happy to see. Best wishes to Yuvan.</td>\n",
              "      <td>0.650000</td>\n",
              "      <td>0.900000</td>\n",
              "    </tr>\n",
              "    <tr>\n",
              "      <th>4</th>\n",
              "      <td>Very good.</td>\n",
              "      <td>0.780000</td>\n",
              "      <td>0.910000</td>\n",
              "    </tr>\n",
              "    <tr>\n",
              "      <th>...</th>\n",
              "      <td>...</td>\n",
              "      <td>...</td>\n",
              "      <td>...</td>\n",
              "    </tr>\n",
              "    <tr>\n",
              "      <th>95</th>\n",
              "      <td>कोरोना के खिलाफ लड़ाई में बहुत बड़ी भूमिका देश...</td>\n",
              "      <td>0.000000</td>\n",
              "      <td>0.000000</td>\n",
              "    </tr>\n",
              "    <tr>\n",
              "      <th>96</th>\n",
              "      <td>At a time when everybody wants to run away fro...</td>\n",
              "      <td>0.083333</td>\n",
              "      <td>0.100000</td>\n",
              "    </tr>\n",
              "    <tr>\n",
              "      <th>97</th>\n",
              "      <td>Our Nari Shakti is at the forefront of helping...</td>\n",
              "      <td>0.473214</td>\n",
              "      <td>0.116071</td>\n",
              "    </tr>\n",
              "    <tr>\n",
              "      <th>98</th>\n",
              "      <td>Group Captain Patnaik, like several other coll...</td>\n",
              "      <td>0.306944</td>\n",
              "      <td>0.129167</td>\n",
              "    </tr>\n",
              "    <tr>\n",
              "      <th>99</th>\n",
              "      <td>Dinesh Upadhyay Ji belongs to Jaunpur, UP. He ...</td>\n",
              "      <td>0.666667</td>\n",
              "      <td>0.333333</td>\n",
              "    </tr>\n",
              "  </tbody>\n",
              "</table>\n",
              "<p>100 rows × 3 columns</p>\n",
              "</div>"
            ],
            "text/plain": [
              "                                               Tweets  Subjectivity  Polarity\n",
              "0   Reforms by Conviction and Incentives...my   po...      1.000000  0.500000\n",
              "1   Today’s record-breaking vaccination numbers ar...      0.520833  0.166667\n",
              "2   The world is realising the benefits and the un...      0.666667  0.000000\n",
              "3                Happy to see. Best wishes to Yuvan.       0.650000  0.900000\n",
              "4                                         Very good.       0.780000  0.910000\n",
              "..                                                ...           ...       ...\n",
              "95  कोरोना के खिलाफ लड़ाई में बहुत बड़ी भूमिका देश...      0.000000  0.000000\n",
              "96  At a time when everybody wants to run away fro...      0.083333  0.100000\n",
              "97  Our Nari Shakti is at the forefront of helping...      0.473214  0.116071\n",
              "98  Group Captain Patnaik, like several other coll...      0.306944  0.129167\n",
              "99  Dinesh Upadhyay Ji belongs to Jaunpur, UP. He ...      0.666667  0.333333\n",
              "\n",
              "[100 rows x 3 columns]"
            ]
          },
          "metadata": {
            "tags": []
          },
          "execution_count": 76
        }
      ]
    },
    {
      "cell_type": "code",
      "metadata": {
        "colab": {
          "base_uri": "https://localhost:8080/",
          "height": 264
        },
        "id": "oKNgwmQMXghC",
        "outputId": "0269203a-31b5-4d20-ad60-e9cdbfd52e4a"
      },
      "source": [
        "#word cloud\n",
        "\n",
        "allWords = ''.join([twts for twts in df ['Tweets']])\n",
        "wordcloud = WordCloud(width = 500,  height=700 , random_state = 21 , max_font_size = 119).generate(allWords) \n",
        "\n",
        "plt.imshow(wordcloud, interpolation = \"bilinear\")\n",
        "plt.axis('off')\n",
        "plt.show()\n",
        "\n"
      ],
      "execution_count": 77,
      "outputs": [
        {
          "output_type": "display_data",
          "data": {
            "image/png": "[encoded data removed]",
            "text/plain": [
              "<Figure size 432x288 with 1 Axes>"
            ]
          },
          "metadata": {
            "tags": []
          }
        }
      ]
    },
    {
      "cell_type": "code",
      "metadata": {
        "colab": {
          "base_uri": "https://localhost:8080/",
          "height": 419
        },
        "id": "GwNbKPv9j4kG",
        "outputId": "0615bd45-a790-4c9f-861e-4be9ff99dcf7"
      },
      "source": [
        "#tweet negative and postive analysis\n",
        "def getAnalysis(score):\n",
        " if score < 0 : \n",
        "   return 'Negative'\n",
        " elif score == 0:\n",
        "    return 'Neutral'\n",
        " else:\n",
        "    return 'Postive'\n",
        "\n",
        "df['Analysis'] = df['Polarity'].apply(getAnalysis) \n",
        "\n",
        "   #print the dataframe\n",
        "df\n",
        "\n",
        "\n",
        "\n"
      ],
      "execution_count": 78,
      "outputs": [
        {
          "output_type": "execute_result",
          "data": {
            "text/html": [
              "<div>\n",
              "<style scoped>\n",
              "    .dataframe tbody tr th:only-of-type {\n",
              "        vertical-align: middle;\n",
              "    }\n",
              "\n",
              "    .dataframe tbody tr th {\n",
              "        vertical-align: top;\n",
              "    }\n",
              "\n",
              "    .dataframe thead th {\n",
              "        text-align: right;\n",
              "    }\n",
              "</style>\n",
              "<table border=\"1\" class=\"dataframe\">\n",
              "  <thead>\n",
              "    <tr style=\"text-align: right;\">\n",
              "      <th></th>\n",
              "      <th>Tweets</th>\n",
              "      <th>Subjectivity</th>\n",
              "      <th>Polarity</th>\n",
              "      <th>Analysis</th>\n",
              "    </tr>\n",
              "  </thead>\n",
              "  <tbody>\n",
              "    <tr>\n",
              "      <th>0</th>\n",
              "      <td>Reforms by Conviction and Incentives...my   po...</td>\n",
              "      <td>1.000000</td>\n",
              "      <td>0.500000</td>\n",
              "      <td>Postive</td>\n",
              "    </tr>\n",
              "    <tr>\n",
              "      <th>1</th>\n",
              "      <td>Today’s record-breaking vaccination numbers ar...</td>\n",
              "      <td>0.520833</td>\n",
              "      <td>0.166667</td>\n",
              "      <td>Postive</td>\n",
              "    </tr>\n",
              "    <tr>\n",
              "      <th>2</th>\n",
              "      <td>The world is realising the benefits and the un...</td>\n",
              "      <td>0.666667</td>\n",
              "      <td>0.000000</td>\n",
              "      <td>Neutral</td>\n",
              "    </tr>\n",
              "    <tr>\n",
              "      <th>3</th>\n",
              "      <td>Happy to see. Best wishes to Yuvan.</td>\n",
              "      <td>0.650000</td>\n",
              "      <td>0.900000</td>\n",
              "      <td>Postive</td>\n",
              "    </tr>\n",
              "    <tr>\n",
              "      <th>4</th>\n",
              "      <td>Very good.</td>\n",
              "      <td>0.780000</td>\n",
              "      <td>0.910000</td>\n",
              "      <td>Postive</td>\n",
              "    </tr>\n",
              "    <tr>\n",
              "      <th>...</th>\n",
              "      <td>...</td>\n",
              "      <td>...</td>\n",
              "      <td>...</td>\n",
              "      <td>...</td>\n",
              "    </tr>\n",
              "    <tr>\n",
              "      <th>95</th>\n",
              "      <td>कोरोना के खिलाफ लड़ाई में बहुत बड़ी भूमिका देश...</td>\n",
              "      <td>0.000000</td>\n",
              "      <td>0.000000</td>\n",
              "      <td>Neutral</td>\n",
              "    </tr>\n",
              "    <tr>\n",
              "      <th>96</th>\n",
              "      <td>At a time when everybody wants to run away fro...</td>\n",
              "      <td>0.083333</td>\n",
              "      <td>0.100000</td>\n",
              "      <td>Postive</td>\n",
              "    </tr>\n",
              "    <tr>\n",
              "      <th>97</th>\n",
              "      <td>Our Nari Shakti is at the forefront of helping...</td>\n",
              "      <td>0.473214</td>\n",
              "      <td>0.116071</td>\n",
              "      <td>Postive</td>\n",
              "    </tr>\n",
              "    <tr>\n",
              "      <th>98</th>\n",
              "      <td>Group Captain Patnaik, like several other coll...</td>\n",
              "      <td>0.306944</td>\n",
              "      <td>0.129167</td>\n",
              "      <td>Postive</td>\n",
              "    </tr>\n",
              "    <tr>\n",
              "      <th>99</th>\n",
              "      <td>Dinesh Upadhyay Ji belongs to Jaunpur, UP. He ...</td>\n",
              "      <td>0.666667</td>\n",
              "      <td>0.333333</td>\n",
              "      <td>Postive</td>\n",
              "    </tr>\n",
              "  </tbody>\n",
              "</table>\n",
              "<p>100 rows × 4 columns</p>\n",
              "</div>"
            ],
            "text/plain": [
              "                                               Tweets  ...  Analysis\n",
              "0   Reforms by Conviction and Incentives...my   po...  ...   Postive\n",
              "1   Today’s record-breaking vaccination numbers ar...  ...   Postive\n",
              "2   The world is realising the benefits and the un...  ...   Neutral\n",
              "3                Happy to see. Best wishes to Yuvan.   ...   Postive\n",
              "4                                         Very good.   ...   Postive\n",
              "..                                                ...  ...       ...\n",
              "95  कोरोना के खिलाफ लड़ाई में बहुत बड़ी भूमिका देश...  ...   Neutral\n",
              "96  At a time when everybody wants to run away fro...  ...   Postive\n",
              "97  Our Nari Shakti is at the forefront of helping...  ...   Postive\n",
              "98  Group Captain Patnaik, like several other coll...  ...   Postive\n",
              "99  Dinesh Upadhyay Ji belongs to Jaunpur, UP. He ...  ...   Postive\n",
              "\n",
              "[100 rows x 4 columns]"
            ]
          },
          "metadata": {
            "tags": []
          },
          "execution_count": 78
        }
      ]
    },
    {
      "cell_type": "code",
      "metadata": {
        "colab": {
          "base_uri": "https://localhost:8080/"
        },
        "id": "kXVPx6aRsBjO",
        "outputId": "ecfde91c-9777-44a5-f942-8a9fbf217bc9"
      },
      "source": [
        "#positive tweets \n",
        "j=1\n",
        "sortedDF = df.sort_values(by=['Polarity'])\n",
        "for i in range (0,sortedDF.shape[0]):\n",
        "  if (sortedDF['Analysis'][i] == 'Postive'):\n",
        "    print( str(j)+')' +sortedDF ['Tweets'][i])\n",
        "    print()\n",
        "    j=j+1\n",
        "\n",
        " "
      ],
      "execution_count": 82,
      "outputs": [
        {
          "output_type": "stream",
          "text": [
            "1)Reforms by Conviction and Incentives...my   post on innovative policy making in the time of COVID-19, powered by the spirit of Centre-State Bhagidari. \n",
            "\n",
            "2)Today’s record-breaking vaccination numbers are gladdening. The vaccine remains our strongest weapon to fight COVID-19. Congratulations to those who got vaccinated and kudos to all the front-line warriors working hard to ensure so many citizens got the vaccine. \n",
            "\n",
            "Well done India!\n",
            "\n",
            "3)Happy to see. Best wishes to Yuvan. \n",
            "\n",
            "4)Very good. \n",
            "\n",
            "5)Indians Missions across the world have marked YogaDay with great enthusiasm. The Yoga sessions world over drew several people. \n",
            "\n",
            "6)Yoga…always connecting people and inspiring them to lead healthy lives. \n",
            "\n",
            "7)भारत का उपहार है, योग रोग पर प्रहार है…\n",
            "\n",
            "A musical tribute to Yoga...a unique effort by prominent artistes. \n",
            "\n",
            "8)Congratulations to His Excellency Ebrahim Raisi on his election as President of the Islamic Republic of Iran. I look forward to working with him to further strengthen the warm ties between India and Iran.\n",
            "\n",
            "9)It is worth noting that Shri  Ji has placed special emphasis on giving first time MPs, young MPs and women MPs the opportunity to speak on the floor of the House. He has also strengthened the various Committees, whose role in our democracy is vital.\n",
            "\n",
            "10)Over the last two years, Shri  Ji has ushered in a series of steps that have enriched our Parliamentary democracy and enhanced productivity, leading to the passage of many historic as well as pro-people legislations. Congratulations to him!\n",
            "\n",
            "11)Saddened by the demise of Dr. Guruprasad Mohapatra, DPIIT Secretary. I had worked with him extensively in Gujarat and at the Centre. He had a great understanding of administrative issues and was known for his innovative zeal. Condolences to his family and friends. Om Shanti.\n",
            "\n",
            "12)I had spoken to Shri Milkha Singh Ji just a few days ago. Little did I know that it would be our last conversation. Several budding athletes will derive strength from his life journey. My condolences to his family and many admirers all over the world.\n",
            "\n",
            "13)In the passing away of Shri Milkha Singh Ji, we have lost a colossal sportsperson, who captured the nation’s imagination and had a special place in the hearts of countless Indians. His inspiring personality endeared himself to millions. Anguished by his passing away. \n",
            "\n",
            "14)On the auspicious occasion of Jyeshtha Ashtami, greetings and best wishes to everyone, particularly the Kashmiri Pandit community. We bow to Mata Kheer Bhawani and pray for everybody’s health and wellness.\n",
            "\n",
            "15)Here is why India is the ideal destination for start-ups to flourish. \n",
            "\n",
            "16)Best wishes on the auspicious occasion of Raja Parba. I pray for the good health and well-being of everyone.\n",
            "\n",
            "17)As you complete your successful tenure as the Prime Minister of the State of Israel, I convey my profound gratitude for your leadership and personal attention to India-Israel strategic partnership .\n",
            "\n",
            "18)Excellency , congratulations on becoming the Prime Minister of Israel. As we celebrate 30 years of the upgradation of diplomatic relations next year, I look forward to meeting you and deepening the strategic partnership between our two countries. \n",
            "\n",
            "19)Also participated in the  session on Climate and reiterated India's strong commitment to climate action. India is the only G20 country on track to meet its Paris Commitments. And Indian Railways is committed to \"Net Zero\" by 2030.\n",
            "\n",
            "20)Was happy to address the  Session on Open Societies as a Lead Speaker. Democracy and freedom are part of India's civilizational ethos, and find expression in the vibrancy and diversity of India's society. \n",
            "\n",
            "21)Very good initiative!   \n",
            "\n",
            "\n",
            "\n",
            "22)Participated in the  Summit session on Health. Thanked partners for the support during the recent COVID-19 wave. \n",
            "\n",
            "India supports global action to prevent future pandemics. \n",
            "\n",
            "\"One Earth, One Health\" is our message to humanity. G7UK \n",
            "\n",
            "23)Collective efforts are important towards achieving sustainable and inclusive growth. \n",
            "\n",
            "24)India’s Aspirational Districts Programme aims to ensure inclusive &amp; all-round development in areas across our nation. Under this programme, many districts have witnessed holistic transformation. Glad to see the  report highlight its salient features. \n",
            "\n",
            "25)Dr. Siddalingaiah will be remembered for his prolific writings, poetry and contributions towards social justice. Saddened by his passing away. My thoughts are with his family and many admirers in this hour of sadness. Om Shanti.\n",
            "\n",
            "26)Dr. Ashok Panagariya made a mark as an outstanding neurologist. His pioneering work in the medical field will benefit generations of doctors and researchers. Saddened by his demise. Condolences to his family and friends. Om Shanti.\n",
            "\n",
            "27)Shri Dingko Singh was a sporting superstar, an outstanding boxer who earned several laurels and also contributed to furthering the popularity of boxing. Saddened by his passing away. Condolences to his family and admirers. Om Shanti.\n",
            "\n",
            "28)Congratulations to ,  and . Efforts are underway to ensure more universities and institutions of India scale global excellence and support intellectual prowess among the youth. \n",
            "\n",
            "\n",
            "\n",
            "29)Today's Cabinet decision augurs well for the Railways, particularly in terms of furthering safety, security and efficiency. \n",
            "\n",
            "\n",
            "\n",
            "30)Here is an interesting opportunity for youngsters to harness their writing skills and also contribute to India's intellectual discourse. Know more... \n",
            "\n",
            " \n",
            "\n",
            "31)Some people thrive on creating panic and furthering vaccine hesitancy. \n",
            "\n",
            "Such elements are doing a great disservice to the efforts to make our planet COVID-free. \n",
            "\n",
            "32)India’s vaccination programme, which started in January was guided by global best practices. \n",
            "\n",
            "Later on, a series of demands and feedback was given, which was duly accepted. \n",
            "\n",
            "33)India is proud of our scientists and innovators who have made indelible contributions towards defeating COVID-19. \n",
            "\n",
            "34)At 11 AM tomorrow, 5th June will take part in the World Environment Programme on the theme of ‘promotion of biofuels for better environment.’ Would also interact with farmers to hear their experiences of using ethanol and biogas. \n",
            "\n",
            "35)Padma Vibhushan Sir Anerood Jugnauth, a tall leader &amp; statesman, was the architect of modern Mauritius. A proud Pravasi Bharatiya, he helped forge the special bilateral relationship that will benefit from his legacy. Condolences to his family &amp; the people of Mauritius. Om Shanti. \n",
            "\n",
            "36)We also discussed ongoing efforts to further strengthen India-US vaccine cooperation, and the potential of our partnership to contribute to post-Covid global health and economic recovery.\n",
            "\n",
            "37)Earlier today, reviewed India’s Olympic preparations for the upcoming Tokyo games. Discussed the steps taken for supporting our sportspersons as they head to the games. \n",
            "\n",
            "38)It has been a chaotic year for students. The joys of growing up partly snatched away, confined to their homes, less time with friends. \n",
            "\n",
            "As you said, in the current times, this was the best and most student friendly decision. \n",
            "\n",
            "39)The teaching community has played an outstanding role in the last year. I would like to applaud all the teachers for supporting the students and ensuring that the education journey continues under the new normal. \n",
            "\n",
            "40)Best wishes to the people of Telangana on the state’s Formation Day. The state is blessed with a unique culture and hardworking people who have excelled in many areas. Praying for the good health and well-being of the people of Telangana.\n",
            "\n",
            "41)Greetings to the people of Goa on their Statehood Day. May the state scale new heights of progress. I pray for the good health and well-being of the people of Goa.\n",
            "\n",
            "42)At a time when everybody wants to run away from Coronavirus, our lab technicians do not have that luxury. In the last one year, these lab technicians have strengthened our testing apparatus. Spoke to Prakash Kandpal Ji, a senior lab technician during MannKiBaat. \n",
            "\n",
            "43)Our Nari Shakti is at the forefront of helping others.\n",
            "\n",
            "Sireesha Ji is a loco pilot who has operated an all-woman Oxygen Special train. Among other things, she highlights the motivation she received from her parents to help others. MannKiBaat \n",
            "\n",
            "44)Group Captain Patnaik, like several other colleagues of the Air Force, has been busy with sorties to boost oxygen supply. He shares his experience of the last few weeks. I also had a wonderful interaction with his daughter Aditi. MannKiBaat \n",
            "\n",
            "45)Dinesh Upadhyay Ji belongs to Jaunpur, UP. He has been driving a truck for years but in the time of COVID-19 he has been transporting oxygen to various parts. He has not met his family for months but says he feels more satisfied when those in need get oxygen. MannKiBaat \n",
            "\n"
          ],
          "name": "stdout"
        }
      ]
    },
    {
      "cell_type": "code",
      "metadata": {
        "colab": {
          "base_uri": "https://localhost:8080/",
          "height": 441
        },
        "id": "3qOezDTz265K",
        "outputId": "6305acb8-a94a-47f9-dfc0-95939b76d91c"
      },
      "source": [
        "#ploting polarity and subjectivity\n",
        "plt.figure(figsize=(8,6))\n",
        "for i in range (0, df.shape[0]):\n",
        "  plt.scatter(df['Polarity'][i], df['Subjectivity'][i], color='Blue' )\n",
        "\n",
        "plt.title('Sentiment Analysis')\n",
        "plt.xlabel('Polarity')\n",
        "plt.ylabel('Subjectivity')\n",
        "plt.show()\n",
        "\n"
      ],
      "execution_count": 87,
      "outputs": [
        {
          "output_type": "display_data",
          "data": {
            "image/png": "[encoded data removed]",
            "text/plain": [
              "<Figure size 576x432 with 1 Axes>"
            ]
          },
          "metadata": {
            "tags": []
          }
        }
      ]
    },
    {
      "cell_type": "code",
      "metadata": {
        "colab": {
          "base_uri": "https://localhost:8080/",
          "height": 374
        },
        "id": "Ez2vuGT06flE",
        "outputId": "19321571-bae1-473a-ba8b-7a5a2f9f39e2"
      },
      "source": [
        "#print value count\n",
        "df['Analysis'].value_counts()\n",
        "\n",
        "#plot the counts\n",
        "plt.title('Sentiment Analysis')\n",
        "plt.xlabel('Sentiment')\n",
        "plt.ylabel('Counts')\n",
        "df['Analysis'].value_counts().plot(kind='bar')\n",
        "plt.show()\n",
        "\n"
      ],
      "execution_count": 89,
      "outputs": [
        {
          "output_type": "display_data",
          "data": {
            "image/png": "[encoded data removed]",
            "text/plain": [
              "<Figure size 432x288 with 1 Axes>"
            ]
          },
          "metadata": {
            "tags": []
          }
        }
      ]
    },
    {
      "cell_type": "code",
      "metadata": {
        "id": "FPzj_Lvi1gKn"
      },
      "source": [
        ""
      ],
      "execution_count": null,
      "outputs": []
    }
  ]
}